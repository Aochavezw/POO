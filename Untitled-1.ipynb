{
 "cells": [
  {
   "cell_type": "code",
   "execution_count": 1,
   "metadata": {},
   "outputs": [
    {
     "data": {
      "text/plain": [
       "<scipy.stats._distn_infrastructure.rv_frozen at 0x1eeb2d28400>"
      ]
     },
     "execution_count": 1,
     "metadata": {},
     "output_type": "execute_result"
    }
   ],
   "source": [
    "import scipy.stats as stats\n",
    "stats.norm()"
   ]
  },
  {
   "cell_type": "markdown",
   "metadata": {},
   "source": [
    "The Brinell scale is a measure of how hard a material is. An engineer\n",
    "hypothesizes that the mean Brinell score of all sub-critically annealed ductile\n",
    "iron pieces is not equal to 170. The engineer measured the Brinell score of 25\n",
    "pieces of this type of iron and calculated the sample mean to be 174.52 and\n",
    "the sample standard deviation to be 10.31. Perform a hypothesis test that the\n",
    "true average Brinell score is not equal to 170, as well as the corresponding\n",
    "confidence interval. Set alpha = 0.01.\n"
   ]
  },
  {
   "cell_type": "code",
   "execution_count": 3,
   "metadata": {},
   "outputs": [],
   "source": [
    "h0  = 170\n",
    "#h1 <> 170\n",
    "n=25\n",
    "xbar = 174.52\n",
    "s = 10.31\n",
    "se = s/n**0.5\n",
    "alpha=0.01\n",
    "\n",
    "#2 tail test"
   ]
  },
  {
   "cell_type": "code",
   "execution_count": 7,
   "metadata": {},
   "outputs": [
    {
     "data": {
      "text/plain": [
       "<scipy.stats._distn_infrastructure.rv_frozen at 0x1eeb57bb1f0>"
      ]
     },
     "execution_count": 7,
     "metadata": {},
     "output_type": "execute_result"
    }
   ],
   "source": [
    "t = stats.t(df=25, loc= h0, scale = se); t"
   ]
  },
  {
   "cell_type": "code",
   "execution_count": 8,
   "metadata": {},
   "outputs": [
    {
     "data": {
      "text/plain": [
       "0.019486246289952755"
      ]
     },
     "execution_count": 8,
     "metadata": {},
     "output_type": "execute_result"
    }
   ],
   "source": [
    "t.pdf(174.52)"
   ]
  },
  {
   "cell_type": "code",
   "execution_count": 10,
   "metadata": {},
   "outputs": [
    {
     "data": {
      "text/plain": [
       "True"
      ]
     },
     "execution_count": 10,
     "metadata": {},
     "output_type": "execute_result"
    }
   ],
   "source": [
    "(1-t.cdf(174.52))>0.005"
   ]
  },
  {
   "cell_type": "code",
   "execution_count": 36,
   "metadata": {},
   "outputs": [],
   "source": [
    "class Ttest:\n",
    "    def __init__(self, h0, n, sample_mean, sd, alpha, is_two):\n",
    "        #self.h0 = h0\n",
    "        #self.n = n\n",
    "        self.sample_mean = sample_mean\n",
    "        self.sd = sd\n",
    "        self.alpha = alpha\n",
    "        self.is_two = is_two\n",
    "        self.t = stats.t(df=25, loc= h0, scale = sd/(n ** 0.5))\n",
    "\n",
    "    def pvalue (self, should_subtract_1):\n",
    "        if should_subtract_1:\n",
    "            return 1 - self.t.cdf(self.sample_mean)\n",
    "        else: \n",
    "            return self.t.cdf(self.sample_mean)\n",
    "    "
   ]
  },
  {
   "cell_type": "code",
   "execution_count": 37,
   "metadata": {},
   "outputs": [],
   "source": [
    "t1 = Ttest(170, 25, 174.52, 10.31, 0.01, True)"
   ]
  },
  {
   "cell_type": "code",
   "execution_count": 39,
   "metadata": {},
   "outputs": [
    {
     "data": {
      "text/plain": [
       "0.018951760938419993"
      ]
     },
     "execution_count": 39,
     "metadata": {},
     "output_type": "execute_result"
    }
   ],
   "source": [
    "t1.pvalue(True)"
   ]
  },
  {
   "cell_type": "code",
   "execution_count": 17,
   "metadata": {},
   "outputs": [
    {
     "data": {
      "text/plain": [
       "0.0"
      ]
     },
     "execution_count": 17,
     "metadata": {},
     "output_type": "execute_result"
    }
   ],
   "source": [
    "(1-t1.t.cdf(174.52))"
   ]
  },
  {
   "cell_type": "code",
   "execution_count": null,
   "metadata": {},
   "outputs": [],
   "source": [
    "class Ttest:\n",
    "    def __init__(self, h0, n, sample_mean, sd, alpha, is_two):\n",
    "        self.sample_mean = sample_mean\n",
    "        self.alpha = alpha\n",
    "        self.is_two = is_two\n",
    "        self.t = stats.t(df=n, loc=h0, scale=sd/(n ** 0.5))\n",
    "    def pvalue(self, should_subtract_1):\n",
    "        if should_subtract_1:\n",
    "            return 1 - self.t.cdf(self.sample_mean)\n",
    "        else:\n",
    "            return self.t.cdf(self.sample_mean)\n",
    "    def should_reject_null(self, pvalue):\n",
    "        alpha = self.alpha\n",
    "        if self.is_two:\n",
    "            alpha = self.alpha / 2\n",
    "        return pvalue < alpha\n"
   ]
  }
 ],
 "metadata": {
  "kernelspec": {
   "display_name": "Python 3.9.12 ('base')",
   "language": "python",
   "name": "python3"
  },
  "language_info": {
   "codemirror_mode": {
    "name": "ipython",
    "version": 3
   },
   "file_extension": ".py",
   "mimetype": "text/x-python",
   "name": "python",
   "nbconvert_exporter": "python",
   "pygments_lexer": "ipython3",
   "version": "3.9.12"
  },
  "orig_nbformat": 4,
  "vscode": {
   "interpreter": {
    "hash": "25a0bc904ed641a24e0084eb7eb2dfbdddac8ee0bb634c9a8a1445208883b478"
   }
  }
 },
 "nbformat": 4,
 "nbformat_minor": 2
}
