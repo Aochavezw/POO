{
 "cells": [
  {
   "cell_type": "code",
   "execution_count": 1,
   "metadata": {},
   "outputs": [],
   "source": [
    "class calculadora:\n",
    "    def __init__(self, num1, num2):\n",
    "        self.num1 = float(num1)\n",
    "        self.num2 = float(num2)\n",
    "    \n",
    "    def sumar (self):\n",
    "        suma = self.num1 + self.num2\n",
    "        print(\"el resultado de la suma es: \", suma)\n",
    "    \n",
    "    def restar(self):\n",
    "        resta = self.num1 - self.num2\n",
    "        print(\"el resultado de la resta es: \", resta)\n",
    "\n",
    "    def miltiplicar (self):\n",
    "        mult = self.num1*self.num2\n",
    "        print(\"el resultado de la multiplicacion es: \", mult)\n",
    "\n",
    "    def dividir (self):\n",
    "        div = self.num1 / self.num2\n",
    "        print(\"el resultado de la division es: \", div)"
   ]
  },
  {
   "cell_type": "code",
   "execution_count": 2,
   "metadata": {},
   "outputs": [],
   "source": [
    "num1 = input(\"ingrese un numero: \")\n",
    "num2 = input(\"ingrese un numero: \")\n",
    "\n",
    "calculadora = calculadora(num1,num2)"
   ]
  },
  {
   "cell_type": "code",
   "execution_count": 5,
   "metadata": {},
   "outputs": [
    {
     "name": "stdout",
     "output_type": "stream",
     "text": [
      "el resultado de la suma es:  4.0\n",
      "el resultado de la resta es:  -2.0\n",
      "el resultado de la multiplicacion es:  3.0\n",
      "el resultado de la division es:  0.3333333333333333\n"
     ]
    }
   ],
   "source": [
    "calculadora.sumar()\n",
    "calculadora.restar()\n",
    "calculadora.miltiplicar()\n",
    "calculadora.dividir()"
   ]
  }
 ],
 "metadata": {
  "kernelspec": {
   "display_name": "base",
   "language": "python",
   "name": "python3"
  },
  "language_info": {
   "codemirror_mode": {
    "name": "ipython",
    "version": 3
   },
   "file_extension": ".py",
   "mimetype": "text/x-python",
   "name": "python",
   "nbconvert_exporter": "python",
   "pygments_lexer": "ipython3",
   "version": "3.9.12"
  },
  "orig_nbformat": 4,
  "vscode": {
   "interpreter": {
    "hash": "25a0bc904ed641a24e0084eb7eb2dfbdddac8ee0bb634c9a8a1445208883b478"
   }
  }
 },
 "nbformat": 4,
 "nbformat_minor": 2
}
